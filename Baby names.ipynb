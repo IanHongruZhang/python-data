{
 "cells": [
  {
   "cell_type": "markdown",
   "metadata": {},
   "source": [
    "# Analysing Baby Names\n",
    "\n",
    "In this tutorial, we will use pandas to analyse patterns over time in US baby names.\n",
    "This is meant as inspiration by showcasing the kind of analyses we can do with pandas. \n",
    "Don't worry if it seems quite magical at first, we will be going over these commands more slowly in the next weeks. \n",
    "\n",
    "Before we start work, first import the necessary names and set matplotlib to put plots inline:"
   ]
  },
  {
   "cell_type": "code",
   "execution_count": 1,
   "metadata": {
    "collapsed": true
   },
   "outputs": [],
   "source": [
    "import pandas as pd\n",
    "%matplotlib inline  "
   ]
  },
  {
   "cell_type": "markdown",
   "metadata": {},
   "source": [
    "Get the data from ssa.gov if the 'data' folder does not exist:\n",
    "(note: this won't work on Windows, you will have to manually download the zip and extract to a folder called 'data')"
   ]
  },
  {
   "cell_type": "code",
   "execution_count": 2,
   "metadata": {
    "collapsed": false
   },
   "outputs": [],
   "source": [
    "import os.path\n",
    "if not os.path.exists(\"data\"): \n",
    "    url = \"https://www.ssa.gov/oact/babynames/names.zip\"\n",
    "    print(url)\n",
    "    !wget {url} && mkdir data && unzip names.zip -d data && rm names.zip"
   ]
  },
  {
   "cell_type": "markdown",
   "metadata": {},
   "source": [
    "Let's have a look at one of the files. We can use the ipython !cat command (on windows), and/or read the file into a pandas 'DataFrame':"
   ]
  },
  {
   "cell_type": "code",
   "execution_count": 3,
   "metadata": {
    "collapsed": false
   },
   "outputs": [
    {
     "name": "stdout",
     "output_type": "stream",
     "text": [
      "Emma,F,20355\r",
      "\r\n",
      "Olivia,F,19553\r",
      "\r\n",
      "Sophia,F,17327\r",
      "\r\n",
      "Ava,F,16286\r",
      "\r\n",
      "Isabella,F,15504\r",
      "\r\n",
      "Mia,F,14820\r",
      "\r\n",
      "Abigail,F,12311\r",
      "\r\n",
      "Emily,F,11727\r",
      "\r\n",
      "Charlotte,F,11332\r",
      "\r\n",
      "Harper,F,10241\r",
      "\r\n"
     ]
    }
   ],
   "source": [
    "!head data/yob2015.txt"
   ]
  },
  {
   "cell_type": "code",
   "execution_count": 4,
   "metadata": {
    "collapsed": false
   },
   "outputs": [
    {
     "data": {
      "text/html": [
       "<div>\n",
       "<table border=\"1\" class=\"dataframe\">\n",
       "  <thead>\n",
       "    <tr style=\"text-align: right;\">\n",
       "      <th></th>\n",
       "      <th>name</th>\n",
       "      <th>gender</th>\n",
       "      <th>n</th>\n",
       "    </tr>\n",
       "  </thead>\n",
       "  <tbody>\n",
       "    <tr>\n",
       "      <th>0</th>\n",
       "      <td>Emma</td>\n",
       "      <td>F</td>\n",
       "      <td>20355</td>\n",
       "    </tr>\n",
       "    <tr>\n",
       "      <th>1</th>\n",
       "      <td>Olivia</td>\n",
       "      <td>F</td>\n",
       "      <td>19553</td>\n",
       "    </tr>\n",
       "    <tr>\n",
       "      <th>2</th>\n",
       "      <td>Sophia</td>\n",
       "      <td>F</td>\n",
       "      <td>17327</td>\n",
       "    </tr>\n",
       "    <tr>\n",
       "      <th>3</th>\n",
       "      <td>Ava</td>\n",
       "      <td>F</td>\n",
       "      <td>16286</td>\n",
       "    </tr>\n",
       "    <tr>\n",
       "      <th>4</th>\n",
       "      <td>Isabella</td>\n",
       "      <td>F</td>\n",
       "      <td>15504</td>\n",
       "    </tr>\n",
       "  </tbody>\n",
       "</table>\n",
       "</div>"
      ],
      "text/plain": [
       "       name gender      n\n",
       "0      Emma      F  20355\n",
       "1    Olivia      F  19553\n",
       "2    Sophia      F  17327\n",
       "3       Ava      F  16286\n",
       "4  Isabella      F  15504"
      ]
     },
     "execution_count": 4,
     "metadata": {},
     "output_type": "execute_result"
    }
   ],
   "source": [
    "names = pd.read_csv(\"data/yob2015.txt\", names=['name', 'gender', 'n'])\n",
    "names.head(5)"
   ]
  },
  {
   "cell_type": "markdown",
   "metadata": {},
   "source": [
    "To get the most popular boy's names, select on gender and sort by n:"
   ]
  },
  {
   "cell_type": "code",
   "execution_count": 5,
   "metadata": {
    "collapsed": false
   },
   "outputs": [
    {
     "data": {
      "text/html": [
       "<div>\n",
       "<table border=\"1\" class=\"dataframe\">\n",
       "  <thead>\n",
       "    <tr style=\"text-align: right;\">\n",
       "      <th></th>\n",
       "      <th>name</th>\n",
       "      <th>gender</th>\n",
       "      <th>n</th>\n",
       "    </tr>\n",
       "  </thead>\n",
       "  <tbody>\n",
       "    <tr>\n",
       "      <th>18993</th>\n",
       "      <td>Noah</td>\n",
       "      <td>M</td>\n",
       "      <td>19511</td>\n",
       "    </tr>\n",
       "    <tr>\n",
       "      <th>18994</th>\n",
       "      <td>Liam</td>\n",
       "      <td>M</td>\n",
       "      <td>18281</td>\n",
       "    </tr>\n",
       "    <tr>\n",
       "      <th>18995</th>\n",
       "      <td>Mason</td>\n",
       "      <td>M</td>\n",
       "      <td>16535</td>\n",
       "    </tr>\n",
       "    <tr>\n",
       "      <th>18996</th>\n",
       "      <td>Jacob</td>\n",
       "      <td>M</td>\n",
       "      <td>15816</td>\n",
       "    </tr>\n",
       "    <tr>\n",
       "      <th>18997</th>\n",
       "      <td>William</td>\n",
       "      <td>M</td>\n",
       "      <td>15809</td>\n",
       "    </tr>\n",
       "  </tbody>\n",
       "</table>\n",
       "</div>"
      ],
      "text/plain": [
       "          name gender      n\n",
       "18993     Noah      M  19511\n",
       "18994     Liam      M  18281\n",
       "18995    Mason      M  16535\n",
       "18996    Jacob      M  15816\n",
       "18997  William      M  15809"
      ]
     },
     "execution_count": 5,
     "metadata": {},
     "output_type": "execute_result"
    }
   ],
   "source": [
    "boys = names[names.gender == \"M\"]\n",
    "boys = boys.sort_values(\"n\", ascending=False)\n",
    "boys.head(5)"
   ]
  },
  {
   "cell_type": "markdown",
   "metadata": {},
   "source": [
    "Let's calculate the total number of boys and girls:"
   ]
  },
  {
   "cell_type": "code",
   "execution_count": 6,
   "metadata": {
    "collapsed": false
   },
   "outputs": [
    {
     "data": {
      "text/plain": [
       "gender\n",
       "F    1769325\n",
       "M    1898858\n",
       "Name: n, dtype: int64"
      ]
     },
     "execution_count": 6,
     "metadata": {},
     "output_type": "execute_result"
    }
   ],
   "source": [
    "names.groupby('gender')['n'].sum()"
   ]
  },
  {
   "cell_type": "markdown",
   "metadata": {},
   "source": [
    "We can also ask how often specific names have been used:"
   ]
  },
  {
   "cell_type": "code",
   "execution_count": 7,
   "metadata": {
    "collapsed": false
   },
   "outputs": [
    {
     "data": {
      "text/html": [
       "<div>\n",
       "<table border=\"1\" class=\"dataframe\">\n",
       "  <thead>\n",
       "    <tr style=\"text-align: right;\">\n",
       "      <th></th>\n",
       "      <th>name</th>\n",
       "      <th>gender</th>\n",
       "      <th>n</th>\n",
       "    </tr>\n",
       "  </thead>\n",
       "  <tbody>\n",
       "    <tr>\n",
       "      <th>108</th>\n",
       "      <td>Maria</td>\n",
       "      <td>F</td>\n",
       "      <td>2803</td>\n",
       "    </tr>\n",
       "    <tr>\n",
       "      <th>123</th>\n",
       "      <td>Mary</td>\n",
       "      <td>F</td>\n",
       "      <td>2602</td>\n",
       "    </tr>\n",
       "    <tr>\n",
       "      <th>19018</th>\n",
       "      <td>John</td>\n",
       "      <td>M</td>\n",
       "      <td>10303</td>\n",
       "    </tr>\n",
       "    <tr>\n",
       "      <th>19106</th>\n",
       "      <td>Juan</td>\n",
       "      <td>M</td>\n",
       "      <td>3510</td>\n",
       "    </tr>\n",
       "  </tbody>\n",
       "</table>\n",
       "</div>"
      ],
      "text/plain": [
       "        name gender      n\n",
       "108    Maria      F   2803\n",
       "123     Mary      F   2602\n",
       "19018   John      M  10303\n",
       "19106   Juan      M   3510"
      ]
     },
     "execution_count": 7,
     "metadata": {},
     "output_type": "execute_result"
    }
   ],
   "source": [
    "mynames = (\"John\", \"Juan\", \"Mary\", \"Maria\")\n",
    "names[(names.name.isin(mynames)) & (names.n > 100)]"
   ]
  },
  {
   "cell_type": "markdown",
   "metadata": {},
   "source": [
    "# Combining data from all years\n",
    "So far, we've looked at the 2015 data. But we've downloaded all data from 1880! To make it easier to analyse all data, let's create a data frame containing all data:"
   ]
  },
  {
   "cell_type": "code",
   "execution_count": 8,
   "metadata": {
    "collapsed": false
   },
   "outputs": [
    {
     "data": {
      "text/html": [
       "<div>\n",
       "<table border=\"1\" class=\"dataframe\">\n",
       "  <thead>\n",
       "    <tr style=\"text-align: right;\">\n",
       "      <th></th>\n",
       "      <th>name</th>\n",
       "      <th>gender</th>\n",
       "      <th>n</th>\n",
       "      <th>year</th>\n",
       "    </tr>\n",
       "  </thead>\n",
       "  <tbody>\n",
       "    <tr>\n",
       "      <th>0</th>\n",
       "      <td>Mary</td>\n",
       "      <td>F</td>\n",
       "      <td>7065</td>\n",
       "      <td>1880</td>\n",
       "    </tr>\n",
       "    <tr>\n",
       "      <th>1</th>\n",
       "      <td>Anna</td>\n",
       "      <td>F</td>\n",
       "      <td>2604</td>\n",
       "      <td>1880</td>\n",
       "    </tr>\n",
       "    <tr>\n",
       "      <th>2</th>\n",
       "      <td>Emma</td>\n",
       "      <td>F</td>\n",
       "      <td>2003</td>\n",
       "      <td>1880</td>\n",
       "    </tr>\n",
       "    <tr>\n",
       "      <th>3</th>\n",
       "      <td>Elizabeth</td>\n",
       "      <td>F</td>\n",
       "      <td>1939</td>\n",
       "      <td>1880</td>\n",
       "    </tr>\n",
       "    <tr>\n",
       "      <th>4</th>\n",
       "      <td>Minnie</td>\n",
       "      <td>F</td>\n",
       "      <td>1746</td>\n",
       "      <td>1880</td>\n",
       "    </tr>\n",
       "  </tbody>\n",
       "</table>\n",
       "</div>"
      ],
      "text/plain": [
       "        name gender     n  year\n",
       "0       Mary      F  7065  1880\n",
       "1       Anna      F  2604  1880\n",
       "2       Emma      F  2003  1880\n",
       "3  Elizabeth      F  1939  1880\n",
       "4     Minnie      F  1746  1880"
      ]
     },
     "execution_count": 8,
     "metadata": {},
     "output_type": "execute_result"
    }
   ],
   "source": [
    "years = []\n",
    "for year in range(1880, 2016):\n",
    "    fn = \"data/yob{year}.txt\".format(year=year)\n",
    "    d = pd.read_csv(fn, names=[\"name\", \"gender\", \"n\"])\n",
    "    d['year'] = year\n",
    "    years.append(d)\n",
    "    \n",
    "names = pd.concat(years, ignore_index=True)\n",
    "names.head(5)"
   ]
  },
  {
   "cell_type": "markdown",
   "metadata": {},
   "source": [
    "Let's now plot the total number of births per year per gender:"
   ]
  },
  {
   "cell_type": "code",
   "execution_count": 9,
   "metadata": {
    "collapsed": false
   },
   "outputs": [
    {
     "data": {
      "text/html": [
       "<div>\n",
       "<table border=\"1\" class=\"dataframe\">\n",
       "  <thead>\n",
       "    <tr style=\"text-align: right;\">\n",
       "      <th>gender</th>\n",
       "      <th>F</th>\n",
       "      <th>M</th>\n",
       "    </tr>\n",
       "    <tr>\n",
       "      <th>year</th>\n",
       "      <th></th>\n",
       "      <th></th>\n",
       "    </tr>\n",
       "  </thead>\n",
       "  <tbody>\n",
       "    <tr>\n",
       "      <th>1880</th>\n",
       "      <td>90992</td>\n",
       "      <td>110490</td>\n",
       "    </tr>\n",
       "    <tr>\n",
       "      <th>1881</th>\n",
       "      <td>91953</td>\n",
       "      <td>100743</td>\n",
       "    </tr>\n",
       "    <tr>\n",
       "      <th>1882</th>\n",
       "      <td>107848</td>\n",
       "      <td>113686</td>\n",
       "    </tr>\n",
       "    <tr>\n",
       "      <th>1883</th>\n",
       "      <td>112318</td>\n",
       "      <td>104627</td>\n",
       "    </tr>\n",
       "    <tr>\n",
       "      <th>1884</th>\n",
       "      <td>129020</td>\n",
       "      <td>114443</td>\n",
       "    </tr>\n",
       "  </tbody>\n",
       "</table>\n",
       "</div>"
      ],
      "text/plain": [
       "gender       F       M\n",
       "year                  \n",
       "1880     90992  110490\n",
       "1881     91953  100743\n",
       "1882    107848  113686\n",
       "1883    112318  104627\n",
       "1884    129020  114443"
      ]
     },
     "execution_count": 9,
     "metadata": {},
     "output_type": "execute_result"
    }
   ],
   "source": [
    "total = names.pivot_table(\"n\", index=\"year\", columns=\"gender\", aggfunc=\"sum\")\n",
    "total.head()"
   ]
  },
  {
   "cell_type": "code",
   "execution_count": 10,
   "metadata": {
    "collapsed": false
   },
   "outputs": [
    {
     "data": {
      "image/png": "[encoded data removed]",
      "text/plain": [
       "<matplotlib.figure.Figure at 0x7f9f76365ac8>"
      ]
     },
     "metadata": {},
     "output_type": "display_data"
    }
   ],
   "source": [
    "total.plot(title='Total births');"
   ]
  },
  {
   "cell_type": "markdown",
   "metadata": {},
   "source": [
    "# Naming trends\n",
    "\n",
    "Now, let's have a look at some trends, for example the popularity of 'English' and 'Latino' first names.\n",
    "First, let's plot how often these names have been used over time:"
   ]
  },
  {
   "cell_type": "code",
   "execution_count": 11,
   "metadata": {
    "collapsed": false
   },
   "outputs": [
    {
     "data": {
      "text/html": [
       "<div>\n",
       "<table border=\"1\" class=\"dataframe\">\n",
       "  <thead>\n",
       "    <tr style=\"text-align: right;\">\n",
       "      <th></th>\n",
       "      <th>name</th>\n",
       "      <th>gender</th>\n",
       "      <th>n</th>\n",
       "      <th>year</th>\n",
       "    </tr>\n",
       "  </thead>\n",
       "  <tbody>\n",
       "    <tr>\n",
       "      <th>0</th>\n",
       "      <td>Mary</td>\n",
       "      <td>F</td>\n",
       "      <td>7065</td>\n",
       "      <td>1880</td>\n",
       "    </tr>\n",
       "    <tr>\n",
       "      <th>130</th>\n",
       "      <td>Maria</td>\n",
       "      <td>F</td>\n",
       "      <td>125</td>\n",
       "      <td>1880</td>\n",
       "    </tr>\n",
       "    <tr>\n",
       "      <th>228</th>\n",
       "      <td>John</td>\n",
       "      <td>F</td>\n",
       "      <td>46</td>\n",
       "      <td>1880</td>\n",
       "    </tr>\n",
       "    <tr>\n",
       "      <th>942</th>\n",
       "      <td>John</td>\n",
       "      <td>M</td>\n",
       "      <td>9655</td>\n",
       "      <td>1880</td>\n",
       "    </tr>\n",
       "    <tr>\n",
       "      <th>1213</th>\n",
       "      <td>Juan</td>\n",
       "      <td>M</td>\n",
       "      <td>39</td>\n",
       "      <td>1880</td>\n",
       "    </tr>\n",
       "  </tbody>\n",
       "</table>\n",
       "</div>"
      ],
      "text/plain": [
       "       name gender     n  year\n",
       "0      Mary      F  7065  1880\n",
       "130   Maria      F   125  1880\n",
       "228    John      F    46  1880\n",
       "942    John      M  9655  1880\n",
       "1213   Juan      M    39  1880"
      ]
     },
     "execution_count": 11,
     "metadata": {},
     "output_type": "execute_result"
    }
   ],
   "source": [
    "subset = names[names.name.isin(mynames)]\n",
    "subset.head()"
   ]
  },
  {
   "cell_type": "code",
   "execution_count": 12,
   "metadata": {
    "collapsed": false
   },
   "outputs": [
    {
     "data": {
      "text/html": [
       "<div>\n",
       "<table border=\"1\" class=\"dataframe\">\n",
       "  <thead>\n",
       "    <tr style=\"text-align: right;\">\n",
       "      <th>name</th>\n",
       "      <th>John</th>\n",
       "      <th>Juan</th>\n",
       "      <th>Maria</th>\n",
       "      <th>Mary</th>\n",
       "    </tr>\n",
       "    <tr>\n",
       "      <th>year</th>\n",
       "      <th></th>\n",
       "      <th></th>\n",
       "      <th></th>\n",
       "      <th></th>\n",
       "    </tr>\n",
       "  </thead>\n",
       "  <tbody>\n",
       "    <tr>\n",
       "      <th>1880</th>\n",
       "      <td>4850.5</td>\n",
       "      <td>39.0</td>\n",
       "      <td>125.0</td>\n",
       "      <td>3546.0</td>\n",
       "    </tr>\n",
       "    <tr>\n",
       "      <th>1881</th>\n",
       "      <td>4397.5</td>\n",
       "      <td>45.0</td>\n",
       "      <td>120.0</td>\n",
       "      <td>3474.0</td>\n",
       "    </tr>\n",
       "    <tr>\n",
       "      <th>1882</th>\n",
       "      <td>4798.5</td>\n",
       "      <td>39.0</td>\n",
       "      <td>121.0</td>\n",
       "      <td>4089.0</td>\n",
       "    </tr>\n",
       "    <tr>\n",
       "      <th>1883</th>\n",
       "      <td>4467.0</td>\n",
       "      <td>50.0</td>\n",
       "      <td>141.0</td>\n",
       "      <td>4022.0</td>\n",
       "    </tr>\n",
       "    <tr>\n",
       "      <th>1884</th>\n",
       "      <td>4714.0</td>\n",
       "      <td>56.0</td>\n",
       "      <td>190.0</td>\n",
       "      <td>4626.5</td>\n",
       "    </tr>\n",
       "  </tbody>\n",
       "</table>\n",
       "</div>"
      ],
      "text/plain": [
       "name    John  Juan  Maria    Mary\n",
       "year                             \n",
       "1880  4850.5  39.0  125.0  3546.0\n",
       "1881  4397.5  45.0  120.0  3474.0\n",
       "1882  4798.5  39.0  121.0  4089.0\n",
       "1883  4467.0  50.0  141.0  4022.0\n",
       "1884  4714.0  56.0  190.0  4626.5"
      ]
     },
     "execution_count": 12,
     "metadata": {},
     "output_type": "execute_result"
    }
   ],
   "source": [
    "counts = subset.pivot_table(\"n\", \"year\", \"name\")\n",
    "counts.head()"
   ]
  },
  {
   "cell_type": "code",
   "execution_count": 13,
   "metadata": {
    "collapsed": false
   },
   "outputs": [
    {
     "data": {
      "text/plain": [
       "<matplotlib.axes._subplots.AxesSubplot at 0x7f9f734e47b8>"
      ]
     },
     "execution_count": 13,
     "metadata": {},
     "output_type": "execute_result"
    },
    {
     "data": {
      "image/png": "[encoded data removed]",
      "text/plain": [
       "<matplotlib.figure.Figure at 0x7f9f734c84a8>"
      ]
     },
     "metadata": {},
     "output_type": "display_data"
    }
   ],
   "source": [
    "counts.plot()"
   ]
  },
  {
   "cell_type": "markdown",
   "metadata": {},
   "source": [
    "It's interesting to see that John and Mary both became a lot less popular after the 1960's, while Juan and Maria became more popular, even though Maria seems have peaked in the early 1960's as well*\n",
    "\n",
    "*) perhaps coincidental with the 1961 release of West Side story - see https://www.youtube.com/watch?v=VpdB6CN7jww for some nostalgia :)\n",
    "\n",
    "Let's now compute the ratio of 'Hispanic names' to 'English names':"
   ]
  },
  {
   "cell_type": "code",
   "execution_count": 14,
   "metadata": {
    "collapsed": false
   },
   "outputs": [
    {
     "data": {
      "text/plain": [
       "<matplotlib.axes._subplots.AxesSubplot at 0x7f9f734f3748>"
      ]
     },
     "execution_count": 14,
     "metadata": {},
     "output_type": "execute_result"
    },
    {
     "data": {
      "image/png": "[encoded data removed]",
      "text/plain": [
       "<matplotlib.figure.Figure at 0x7f9f7344f438>"
      ]
     },
     "metadata": {},
     "output_type": "display_data"
    }
   ],
   "source": [
    "total = counts.sum(axis=1)\n",
    "hispanic_names = [\"Juan\", \"Maria\"]\n",
    "hispanic = counts[hispanic_names].sum(axis=1)\n",
    "counts['ratio'] = hispanic / total\n",
    "counts['ratio'].plot()"
   ]
  },
  {
   "cell_type": "markdown",
   "metadata": {},
   "source": [
    "So as you can see the ratio did indeed increase steeply from the 1960's, although it is behaving more erratically in recent years. \n",
    "\n",
    "This is only a brief overview of the kind of things you can do (and do quite easily) with pandas. Look through chapters 2 and 5 of 'Python for Data Analysis' for more examples and information!"
   ]
  }
 ],
 "metadata": {
  "kernelspec": {
   "display_name": "Python 3",
   "language": "python",
   "name": "python3"
  },
  "language_info": {
   "codemirror_mode": {
    "name": "ipython",
    "version": 3
   },
   "file_extension": ".py",
   "mimetype": "text/x-python",
   "name": "python",
   "nbconvert_exporter": "python",
   "pygments_lexer": "ipython3",
   "version": "3.5.2"
  }
 },
 "nbformat": 4,
 "nbformat_minor": 2
}
