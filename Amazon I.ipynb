{
 "cells": [
  {
   "cell_type": "markdown",
   "metadata": {},
   "source": [
    "# Analysing Amazon Reviews Part I: Reading the data\n",
    "(2017-01-19 (C) Wouter van Atteveldt CC-BY-SA)\n",
    "\n",
    "We will analyse the Amazon reviews from http://jmcauley.ucsd.edu/data/amazon/links.html. You can download any of the 5-core subsets for a product category, for example the Grocery and Gourmet data (also found on canvas).\n",
    "\n",
    "This data is composed of review data and product (meta) data, and can be used to answer a lot of questions.\n",
    "For example, what product got the most reviews? What product got the best reviews? \n",
    "What was the most controversial product, i.e. the one with the most divergent reviews?\n",
    "\n",
    "In this handout, we will be doing the analysis in pure python, i.e. without pandas or numpy. \n",
    "Some things would be easier or quicker with pandas, but it is a good exercise to be able to get comfortable with standard python.\n",
    "\n",
    "Before we start with a substantive analysis, we want to get the data and read it into python data structures. \n",
    "This handout explains how to read the data into python lists and dicts and save them as json files.\n",
    "The next handout (Part II: Controversial reviews?) will do a substantive analysis of the reviews.\n",
    "\n",
    "# Product data\n",
    "\n",
    "Let's have a look at the raw data first:"
   ]
  },
  {
   "cell_type": "code",
   "execution_count": 1,
   "metadata": {
    "collapsed": false,
    "scrolled": true
   },
   "outputs": [
    {
     "name": "stdout",
     "output_type": "stream",
     "text": [
      "{\"reviewerID\": \"A1VEELTKS8NLZB\", \"asin\": \"616719923X\", \"reviewerName\": \"Amazon Customer\", \"helpful\": [0, 0], \"reviewText\": \"Just another flavor of Kit Kat but the taste is unique and a bit different.  The only thing that is bothersome is the price.  I thought it was a bit expensive....\", \"overall\": 4.0, \"summary\": \"Good Taste\", \"unixReviewTime\": 1370044800, \"reviewTime\": \"06 1, 2013\"}\r\n"
     ]
    }
   ],
   "source": [
    "!head -1 reviews_Grocery_and_Gourmet_Food_5.json"
   ]
  },
  {
   "cell_type": "markdown",
   "metadata": {},
   "source": [
    "So by the looks of it, each line is a python dictionary. \n",
    "We can use 'eval' to evaluate this line. \n",
    "(Note that executing code from untrusted sources is not a good idea, but I'm sure McAuley is a pretty nice guy)\n",
    "\n",
    "Let's start by turning the file into a list of dictionaries per product:"
   ]
  },
  {
   "cell_type": "code",
   "execution_count": 2,
   "metadata": {
    "collapsed": false,
    "scrolled": true
   },
   "outputs": [
    {
     "name": "stdout",
     "output_type": "stream",
     "text": [
      "{'reviewTime': '06 1, 2013', 'helpful': [0, 0], 'overall': 4.0, 'asin': '616719923X', 'reviewerID': 'A1VEELTKS8NLZB', 'unixReviewTime': 1370044800, 'reviewerName': 'Amazon Customer', 'reviewText': 'Just another flavor of Kit Kat but the taste is unique and a bit different.  The only thing that is bothersome is the price.  I thought it was a bit expensive....', 'summary': 'Good Taste'}\n"
     ]
    }
   ],
   "source": [
    "fn = \"reviews_Grocery_and_Gourmet_Food_5.json\"\n",
    "reviews = []\n",
    "for line in open(fn):\n",
    "    review = eval(line)\n",
    "    reviews.append(review)\n",
    "   \n",
    "print(reviews[0])"
   ]
  },
  {
   "cell_type": "code",
   "execution_count": 3,
   "metadata": {
    "collapsed": false
   },
   "outputs": [
    {
     "name": "stdout",
     "output_type": "stream",
     "text": [
      "151254\n"
     ]
    }
   ],
   "source": [
    "print(len(reviews))"
   ]
  },
  {
   "cell_type": "markdown",
   "metadata": {},
   "source": [
    "Each product can be reviewed by multiple users. \n",
    "To figure out the total amount of products, we can create a *set* of product ids:"
   ]
  },
  {
   "cell_type": "code",
   "execution_count": 4,
   "metadata": {
    "collapsed": false
   },
   "outputs": [
    {
     "name": "stdout",
     "output_type": "stream",
     "text": [
      "8713\n",
      "['B005Q8C2WK', 'B002GWMA6C', 'B0007R9L5Q', 'B000EDG3TU', 'B006M98T1A']\n"
     ]
    }
   ],
   "source": [
    "product_ids = set()\n",
    "for review in reviews:\n",
    "    product_id = review['asin']\n",
    "    product_ids.add(product_id)\n",
    "print(len(product_ids))\n",
    "print(list(product_ids)[:5])"
   ]
  },
  {
   "cell_type": "markdown",
   "metadata": {},
   "source": [
    "We can also create the reviews list and products set using comprehensions, which leads to much shorter code. \n",
    "I also find this code more readable, but that really depends on the complexity of processing. "
   ]
  },
  {
   "cell_type": "code",
   "execution_count": 5,
   "metadata": {
    "collapsed": false
   },
   "outputs": [
    {
     "name": "stdout",
     "output_type": "stream",
     "text": [
      "Identical reviews? True\n",
      "Identical product IDs? True\n"
     ]
    }
   ],
   "source": [
    "reviews2 = [eval(line) for line in open(fn)]\n",
    "product_ids2 = {review['asin'] for review in reviews2}\n",
    "\n",
    "\n",
    "# check whether results are the same:\n",
    "print(\"Identical reviews?\", reviews == reviews2)\n",
    "print(\"Identical product IDs?\", product_ids == product_ids2)"
   ]
  },
  {
   "cell_type": "markdown",
   "metadata": {},
   "source": [
    "# Metadata\n",
    "\n",
    "To see which product is which, we need the product metadata. Let's have a look at the metadata file:"
   ]
  },
  {
   "cell_type": "code",
   "execution_count": 5,
   "metadata": {
    "collapsed": false
   },
   "outputs": [
    {
     "name": "stdout",
     "output_type": "stream",
     "text": [
      "{'asin': '0657745316', 'description': 'This is real vanilla extract made with only 3 premium ingredients. GMO free, no fillers you find in store bought \"vanilla extract.\" \\n\\nThe taste will knock your socks off. Everyone will notice a difference in your baking and cooking and they\\'ll want to know your secret. I also use this for a special homemade coffee creamer that\\'s out of this world and I use it for tea and black coffee as well as espresso drinks. You can add this to make a vanilla latte and skip the sugary syrup for a healthier latte with more flavor! \\n\\nWhen this item arrives, there will also be instructions to refill the product as its used so that you won\\'t have to age it or repurchase it. I\\'ve been using the same vanilla for 2 years now and have friends who\\'ve had theirs for 5 years. It\\'s just as tasteful, just as sweet, strong, and yummy. \\n\\nI use only top shelf liquor and the product is aged a minimum of 4 months. \\n\\nThese also make great gifts. I currently have plenty on the shelf but they won\\'t be ready to use until February (just in time to bake your honey some sweets). Contact me for details. I also make designer jars, and can add any decorative details such as ribbon upon request. Please note, custom orders will require longer shipping and prices will vary depending on how detailed you\\'d like the jar or ribbons etc. \\n\\nMost of these will come in a small mason jar which contains approx 12-16 ounces of extract. The beans are right in the jar and I always throw in extra beans so your product will stay much longer for use in refilling. This product gets sweeter with time.. Like a fine wine it gets better with age.. So the longer you have it on the shelf the better it continues to get.', 'title': '100 Percent All Natural Vanilla Extract', 'imUrl': 'http://ecx.images-amazon.com/images/I/41gFi5h0jYL._SY300_.jpg', 'related': {'also_viewed': ['B001GE8N4Y']}, 'salesRank': {'Grocery & Gourmet Food': 374004}, 'categories': [['Grocery & Gourmet Food']]}\r\n"
     ]
    }
   ],
   "source": [
    "!head -1 meta_Grocery_and_Gourmet_Food.json"
   ]
  },
  {
   "cell_type": "markdown",
   "metadata": {},
   "source": [
    "Similar to above, we start by reading the data into python.\n",
    "Since each product has a unique ID (asin), it makes sense to create a python dictionary, with the asin as key. \n",
    "Note that we only need products with IDs that we have reviews of."
   ]
  },
  {
   "cell_type": "code",
   "execution_count": 6,
   "metadata": {
    "collapsed": false
   },
   "outputs": [
    {
     "name": "stdout",
     "output_type": "stream",
     "text": [
      "8713\n",
      "Starbucks Sumatra Coffee, Whole Bean, 12-Ounce Bags (Pack of 3)\n"
     ]
    }
   ],
   "source": [
    "products = {}\n",
    "fn = \"meta_Grocery_and_Gourmet_Food.json\"\n",
    "for line in open(fn):\n",
    "    d = eval(line)\n",
    "    if d['asin'] in product_ids:  \n",
    "        products[d['asin']] = d\n",
    "print(len(products))\n",
    "print(products['B001EQ5O5U']['title'])"
   ]
  },
  {
   "cell_type": "markdown",
   "metadata": {},
   "source": [
    "Same example with comprehensions:"
   ]
  },
  {
   "cell_type": "code",
   "execution_count": 11,
   "metadata": {
    "collapsed": false
   },
   "outputs": [
    {
     "name": "stdout",
     "output_type": "stream",
     "text": [
      "8713\n"
     ]
    }
   ],
   "source": [
    "fn = \"meta_Grocery_and_Gourmet_Food.json\"\n",
    "lines = (eval(line) for line in open(fn))\n",
    "products = {line['asin'] : line for line in lines \n",
    "          if line['asin'] in product_ids}\n",
    "print(len(products))"
   ]
  },
  {
   "cell_type": "code",
   "execution_count": 13,
   "metadata": {
    "collapsed": false,
    "scrolled": true
   },
   "outputs": [
    {
     "name": "stdout",
     "output_type": "stream",
     "text": [
      "{'title': 'Starbucks Caffe Verona Coffee, Whole Bean,Dark Cocoa, Roasty Sweet,12-Ounce Bags (Pack of 3)', 'description': 'Smooth, sweet and pleasant, this is one of Starbucks perennial favourite coffees. In the United States, it&#8217;s become especially popular as a romantic gift for Valentine&#8217;s Day. First we create a full-bodied blend of Latin American and Indonesian coffees. Then we add 20% of our Italian Roast coffee to give Caff&#xE8; Verona its added depth and sweetness. The result is heavenly.', 'asin': 'B001EQ5428', 'price': 41.95, 'salesRank': {'Grocery & Gourmet Food': 21463}, 'imUrl': 'http://ecx.images-amazon.com/images/I/411qmN5DJpL._SY300_.jpg', 'categories': [['Grocery & Gourmet Food']], 'related': {'bought_together': ['B004LL5O46', 'B00004SPEU'], 'also_viewed': ['B004LL5O46', 'B0029K11EI', 'B00E017PCG', 'B000TYEUXU', 'B004UM2IZE', 'B0078P1QI0', 'B00IIV4BRG', 'B000AAJQQO', 'B001EQ53WE', 'B004X2O3TA', 'B004X2N0MQ', 'B007PSZCX0', 'B001EQ522A', 'B006WA2H9Y', 'B00GR6HPHM', 'B001EQ5O5U', 'B001EQ5O4G', 'B001EQ54M8', 'B007PSZC1W', 'B001EQ5496', 'B001EQ54AA', 'B001EQ53ZQ', 'B001EQ54K0', 'B00JPW5NS8', 'B003VDC3QM', 'B00E9ZRXBQ', 'B0090X8L72', 'B00124WQ82', 'B00FH25NUI', 'B00DTNAZZK', 'B00E0VQIGU', 'B004JJQG9W', 'B00351JWTQ', 'B0090X8MYY', 'B003VDB8SQ', 'B0029K11VQ', 'B009GDC06Y', 'B001EQ5482', 'B0034KP1KC', 'B001EQ53JC', 'B003VDC3QW', 'B003QJRZSW', 'B006MIGFF8', 'B002HQGS24', 'B00I613TG2', 'B004X2NYPE', 'B008HXG6M8', 'B0034KWK0Q', 'B001EQ54H8', 'B003GTR8IO', 'B00D2HG8BS', 'B0090X8NZC', 'B0070CGXN4'], 'also_bought': ['B00E017PCG', 'B0029K11EI', 'B004LL5O46', 'B004JJQG9W', 'B0091M8E06', 'B004JJMWVI', 'B001EQ5O4G', 'B001EQ5O5U', 'B000AAJQQO', 'B0090X8MYY', 'B0078P1QI0', 'B007PSZCX0', 'B004X2O3TA', 'B001EQ54AA', 'B00DTNAZZK', 'B001EQ53WE', 'B00FH25NUI', 'B00IIV4BRG', 'B000TYEUXU', 'B0029K11VQ', 'B001EQ5496', 'B001EQ54K0', 'B004UM2IZE', 'B001EQ522A', 'B001EQ54M8', 'B00124WQ82', 'B004JJSK9G', 'B004X2OBRY', 'B0034L2VUY', 'B001EQ5482', 'B00GR6HPHM', 'B0090X8L72', 'B004X2NYPE', 'B004X2N0MQ', 'B001EQ54H8', 'B001EQ53ZQ', 'B002HQGS24', 'B0027Z8VES', 'B00I613TG2', 'B001LNE3NA', 'B004U7QQFC', 'B009GDC06Y', 'B0029K321S', 'B00351JWTQ', 'B001EQ53YM', 'B004U7KOM8', 'B001EQ53JC', 'B0090X8NZC', 'B006WA2H9Y', 'B00362FJD2', 'B00E9ZRXBQ', 'B0034KP1KC', 'B008321DOY', 'B003VDB8SQ', 'B0007KIMBW', 'B001R3VEY0', 'B00004SPEU', 'B001SJR4XS', 'B005PMKYJ0', 'B007CKVYQ0', 'B002GWMDLY', 'B0034KWK0Q', 'B006YYSQ20', 'B008Y14K44', 'B006BXUT5Q', 'B002GWMD2I', 'B0037UW0WQ', 'B003YVRX5W', 'B00685HGLW', 'B00EO9YZLI', 'B002GWFA1Y', 'B0041FCF1M', 'B00AE229GC', 'B003GTR8KM', 'B004I05VDY', 'B00A0V9KU0', 'B000SDKDM4', 'B002ZOCF0M', 'B00006IDTW', 'B00CXXJZKS', 'B00438XVGU', 'B002ESSASK', 'B000BRLXUI', 'B0036B89RG', 'B00006IUTQ', 'B001UB44SM', 'B00CL1TAHU', 'B002IXHQ9K']}, 'brand': 'Starbucks'}\n"
     ]
    }
   ],
   "source": [
    "print(products['B001EQ5428'])"
   ]
  },
  {
   "cell_type": "markdown",
   "metadata": {},
   "source": [
    "# Check the data"
   ]
  },
  {
   "cell_type": "markdown",
   "metadata": {},
   "source": [
    "Are all products included in the metadata?"
   ]
  },
  {
   "cell_type": "code",
   "execution_count": 15,
   "metadata": {
    "collapsed": false
   },
   "outputs": [
    {
     "name": "stdout",
     "output_type": "stream",
     "text": [
      "True\n"
     ]
    }
   ],
   "source": [
    "print(any([id in products for id in product_ids]))"
   ]
  },
  {
   "cell_type": "code",
   "execution_count": 9,
   "metadata": {
    "collapsed": false,
    "scrolled": false
   },
   "outputs": [
    {
     "name": "stdout",
     "output_type": "stream",
     "text": [
      "True\n"
     ]
    }
   ],
   "source": [
    "print(all(id in products for id in product_ids))"
   ]
  },
  {
   "cell_type": "markdown",
   "metadata": {},
   "source": [
    "Excellent, all review product_ids are included as key in the products dictionary."
   ]
  },
  {
   "cell_type": "markdown",
   "metadata": {},
   "source": [
    "# Saving the data\n",
    "\n",
    "To save the data for future use we have multiple options. For example, we could use 'pickle', python's built-in object serializer.\n",
    "However, for this kind of data (dictionaries), I prefer to store the data as json, as that facilitates reading it from other programs (e.g. from R). \n",
    "So, I store the data as two json files:"
   ]
  },
  {
   "cell_type": "code",
   "execution_count": null,
   "metadata": {
    "collapsed": true
   },
   "outputs": [],
   "source": [
    "import json\n",
    "json.dump(products, open(\"gourmet_products.json\", \"w\"), indent=4)\n",
    "json.dump(reviews, open(\"gourmet_reviews.json\", \"w\"), indent=4)"
   ]
  },
  {
   "cell_type": "code",
   "execution_count": 10,
   "metadata": {
    "collapsed": false
   },
   "outputs": [
    {
     "name": "stdout",
     "output_type": "stream",
     "text": [
      "[\r\n",
      "    {\r\n",
      "        \"reviewerName\": \"Amazon Customer\",\r\n",
      "        \"reviewText\": \"Just another flavor of Kit Kat but the taste is unique and a bit different.  The only thing that is bothersome is the price.  I thought it was a bit expensive....\",\r\n",
      "        \"helpful\": [\r\n",
      "            0,\r\n",
      "            0\r\n",
      "        ],\r\n",
      "        \"asin\": \"616719923X\",\r\n",
      "        \"overall\": 4.0,\r\n"
     ]
    }
   ],
   "source": [
    "!head gourmet_reviews.json"
   ]
  }
 ],
 "metadata": {
  "kernelspec": {
   "display_name": "Python 3",
   "language": "python",
   "name": "python3"
  },
  "language_info": {
   "codemirror_mode": {
    "name": "ipython",
    "version": 3
   },
   "file_extension": ".py",
   "mimetype": "text/x-python",
   "name": "python",
   "nbconvert_exporter": "python",
   "pygments_lexer": "ipython3",
   "version": "3.5.2"
  }
 },
 "nbformat": 4,
 "nbformat_minor": 2
}
