{
 "cells": [
  {
   "cell_type": "markdown",
   "metadata": {},
   "source": [
    "# Analysing Amazon Reviews with Pandas II: Finding controversial reviews\n",
    "(2017-02-03 (C) Wouter van Atteveldt CC-BY-SA)\n",
    "\n",
    "With the amazon reviews data prepared in Part I, we can start doing substantive queries.\n",
    "\n",
    "There are many interesting questions that can be answered with this data.\n",
    "Similar to the previous handout, the one we'll answer here is: what are the most controversial reviews?"
   ]
  },
  {
   "cell_type": "markdown",
   "metadata": {},
   "source": [
    "# Review statistics\n",
    "\n",
    "Before calculating the 'controversiality', let's first look at some simple statistics. \n",
    "Let's count the number of reviews per product, which is automatically sorted in descending order:"
   ]
  },
  {
   "cell_type": "code",
   "execution_count": 1,
   "metadata": {
    "collapsed": false,
    "scrolled": true
   },
   "outputs": [
    {
     "data": {
      "text/plain": [
       "B000FEH8ME    742\n",
       "B002IEVJRY    741\n",
       "B00934WBRO    476\n",
       "B006MONQMC    468\n",
       "B003GTR8IO    445\n",
       "Name: asin, dtype: int64"
      ]
     },
     "execution_count": 1,
     "metadata": {},
     "output_type": "execute_result"
    }
   ],
   "source": [
    "import pandas as pd\n",
    "reviews = pd.read_pickle(\"reviews.pickle\")\n",
    "counts = reviews.asin.value_counts()\n",
    "counts.head()"
   ]
  },
  {
   "cell_type": "markdown",
   "metadata": {},
   "source": [
    "And let's get the mean review and counts per score:"
   ]
  },
  {
   "cell_type": "code",
   "execution_count": 2,
   "metadata": {
    "collapsed": false
   },
   "outputs": [
    {
     "data": {
      "text/plain": [
       "3.8544474393530996"
      ]
     },
     "execution_count": 2,
     "metadata": {},
     "output_type": "execute_result"
    }
   ],
   "source": [
    "reviews.overall[reviews.asin == counts.index[0]].mean()"
   ]
  },
  {
   "cell_type": "code",
   "execution_count": 3,
   "metadata": {
    "collapsed": false,
    "scrolled": true
   },
   "outputs": [
    {
     "data": {
      "text/plain": [
       "4.0    261\n",
       "5.0    243\n",
       "3.0    151\n",
       "2.0     61\n",
       "1.0     26\n",
       "Name: overall, dtype: int64"
      ]
     },
     "execution_count": 3,
     "metadata": {},
     "output_type": "execute_result"
    }
   ],
   "source": [
    "reviews.overall[reviews.asin == counts.index[0]].value_counts()"
   ]
  },
  {
   "cell_type": "markdown",
   "metadata": {},
   "source": [
    "Now, we can compute the mean score per product for all products using the `groupby` function:"
   ]
  },
  {
   "cell_type": "code",
   "execution_count": 4,
   "metadata": {
    "collapsed": false,
    "scrolled": true
   },
   "outputs": [
    {
     "data": {
      "text/html": [
       "<div>\n",
       "<table border=\"1\" class=\"dataframe\">\n",
       "  <thead>\n",
       "    <tr style=\"text-align: right;\">\n",
       "      <th></th>\n",
       "      <th>count</th>\n",
       "      <th>mean</th>\n",
       "    </tr>\n",
       "    <tr>\n",
       "      <th>asin</th>\n",
       "      <th></th>\n",
       "      <th></th>\n",
       "    </tr>\n",
       "  </thead>\n",
       "  <tbody>\n",
       "    <tr>\n",
       "      <th>616719923X</th>\n",
       "      <td>16</td>\n",
       "      <td>4.062500</td>\n",
       "    </tr>\n",
       "    <tr>\n",
       "      <th>9742356831</th>\n",
       "      <td>15</td>\n",
       "      <td>4.733333</td>\n",
       "    </tr>\n",
       "    <tr>\n",
       "      <th>B00004S1C5</th>\n",
       "      <td>7</td>\n",
       "      <td>4.142857</td>\n",
       "    </tr>\n",
       "    <tr>\n",
       "      <th>B0000531B7</th>\n",
       "      <td>9</td>\n",
       "      <td>4.555556</td>\n",
       "    </tr>\n",
       "    <tr>\n",
       "      <th>B00005344V</th>\n",
       "      <td>7</td>\n",
       "      <td>4.428571</td>\n",
       "    </tr>\n",
       "  </tbody>\n",
       "</table>\n",
       "</div>"
      ],
      "text/plain": [
       "            count      mean\n",
       "asin                       \n",
       "616719923X     16  4.062500\n",
       "9742356831     15  4.733333\n",
       "B00004S1C5      7  4.142857\n",
       "B0000531B7      9  4.555556\n",
       "B00005344V      7  4.428571"
      ]
     },
     "execution_count": 4,
     "metadata": {},
     "output_type": "execute_result"
    }
   ],
   "source": [
    "stats = reviews.groupby(['asin'])['overall'].agg(['count', 'mean'])\n",
    "stats.head()"
   ]
  },
  {
   "cell_type": "markdown",
   "metadata": {},
   "source": [
    "# Controversiality: Using a custom aggregation function\n",
    "\n",
    "The above code computed the mean score per product. \n",
    "We can also supply a custom function to the aggregate, which takes the values as its argument.\n",
    "Similar to the previous handout,\n",
    "we compute the controversiality by taking the lower count of the number of good (5-star) and bad (1 or 2 star) reviews:"
   ]
  },
  {
   "cell_type": "code",
   "execution_count": 5,
   "metadata": {
    "collapsed": true
   },
   "outputs": [],
   "source": [
    "def controversiality(x):\n",
    "    c = x.value_counts()\n",
    "    return min(c.get(5, 0), c.get(1, 0) + c.get(2, 0))"
   ]
  },
  {
   "cell_type": "markdown",
   "metadata": {},
   "source": [
    "Let's test this with the most reviewed product identified above, which had 261 good and 61+26=87 bad reviews:"
   ]
  },
  {
   "cell_type": "code",
   "execution_count": 6,
   "metadata": {
    "collapsed": false
   },
   "outputs": [
    {
     "data": {
      "text/plain": [
       "87"
      ]
     },
     "execution_count": 6,
     "metadata": {},
     "output_type": "execute_result"
    }
   ],
   "source": [
    "controversiality(reviews.overall[reviews.asin == 'B000FEH8ME'])"
   ]
  },
  {
   "cell_type": "markdown",
   "metadata": {},
   "source": [
    "Now, we can apply this to all reviews and see the most controversial ones:"
   ]
  },
  {
   "cell_type": "code",
   "execution_count": 7,
   "metadata": {
    "collapsed": false,
    "scrolled": true
   },
   "outputs": [
    {
     "data": {
      "text/html": [
       "<div>\n",
       "<table border=\"1\" class=\"dataframe\">\n",
       "  <thead>\n",
       "    <tr style=\"text-align: right;\">\n",
       "      <th></th>\n",
       "      <th>controversiality</th>\n",
       "    </tr>\n",
       "    <tr>\n",
       "      <th>asin</th>\n",
       "      <th></th>\n",
       "    </tr>\n",
       "  </thead>\n",
       "  <tbody>\n",
       "    <tr>\n",
       "      <th>B002IEVJRY</th>\n",
       "      <td>90.0</td>\n",
       "    </tr>\n",
       "    <tr>\n",
       "      <th>B000FEH8ME</th>\n",
       "      <td>87.0</td>\n",
       "    </tr>\n",
       "    <tr>\n",
       "      <th>B004YV80O4</th>\n",
       "      <td>72.0</td>\n",
       "    </tr>\n",
       "    <tr>\n",
       "      <th>B007B9WAH4</th>\n",
       "      <td>70.0</td>\n",
       "    </tr>\n",
       "    <tr>\n",
       "      <th>B006MONQMC</th>\n",
       "      <td>68.0</td>\n",
       "    </tr>\n",
       "  </tbody>\n",
       "</table>\n",
       "</div>"
      ],
      "text/plain": [
       "            controversiality\n",
       "asin                        \n",
       "B002IEVJRY              90.0\n",
       "B000FEH8ME              87.0\n",
       "B004YV80O4              72.0\n",
       "B007B9WAH4              70.0\n",
       "B006MONQMC              68.0"
      ]
     },
     "execution_count": 7,
     "metadata": {},
     "output_type": "execute_result"
    }
   ],
   "source": [
    "c = reviews.groupby(['asin'])['overall'].agg([controversiality])\n",
    "c = c.sort_values(\"controversiality\", ascending=False)\n",
    "c.head()"
   ]
  },
  {
   "cell_type": "markdown",
   "metadata": {},
   "source": [
    "# Controversiality: using vectorized functions\n",
    "\n",
    "The above code works, but it runs pretty slow, more than 5 seconds on my computer.\n",
    "The reason for this is that for each of the 9000 reviews, pandas first makes a list of all scores, \n",
    "and then calls our python function with that list.\n",
    "Effectively, we're placing our python code within the implicit for-loop. \n",
    "Since python code is easily 10-100 times slower than the compiled C or Fortran code used internally in numpy, \n",
    "this is always much slower than using operations that work on the whole set of reviews at once.\n",
    "Such operations are ofen called 'vectorized' functions (since they are called on the whole vector, rather than on each element of the vector)\n",
    "\n",
    "To do this for controversiality, we use a different strategy:\n",
    "We first compute the number of good and bad reviews per products by filtering on score and using value_counts:"
   ]
  },
  {
   "cell_type": "code",
   "execution_count": 8,
   "metadata": {
    "collapsed": false
   },
   "outputs": [
    {
     "data": {
      "text/plain": [
       "B000E1D7RS    260\n",
       "B000FEH8ME    243\n",
       "B00DS842HS    220\n",
       "B0051COPFI    203\n",
       "B0051SU0OW    202\n",
       "Name: asin, dtype: int64"
      ]
     },
     "execution_count": 8,
     "metadata": {},
     "output_type": "execute_result"
    }
   ],
   "source": [
    "good = reviews.asin[reviews.overall == 5].value_counts()\n",
    "bad = reviews.asin[reviews.overall <= 2].value_counts()\n",
    "good.head()"
   ]
  },
  {
   "cell_type": "markdown",
   "metadata": {},
   "source": [
    "Next, we use the `combine` function. \n",
    "This function allows us to call a function (in this case: min) on the combination of the values from two series.\n",
    "Since not every product will have bad (or good) reviews, we specify a fill_value of 0 to prevent NaN's when a value is missing. "
   ]
  },
  {
   "cell_type": "code",
   "execution_count": 9,
   "metadata": {
    "collapsed": false
   },
   "outputs": [
    {
     "data": {
      "text/plain": [
       "B002IEVJRY    90\n",
       "B000FEH8ME    87\n",
       "B004YV80O4    72\n",
       "B007B9WAH4    70\n",
       "B006MONQMC    68\n",
       "Name: asin, dtype: int64"
      ]
     },
     "execution_count": 9,
     "metadata": {},
     "output_type": "execute_result"
    }
   ],
   "source": [
    "c = good.combine(bad, func=min, fill_value=0)\n",
    "c = c.sort_values(ascending=False)\n",
    "c.head()"
   ]
  },
  {
   "cell_type": "markdown",
   "metadata": {},
   "source": [
    "This is much better, but you can still notice that the combine function takes time. \n",
    "The reason for this is that 'min' is a python function, which is still called on each of the rows.\n",
    "So, while the largest time consumer in the first attempt (creating the lists of scores per product and counting them) is  removed, we are still running a python function on each row.\n",
    "\n",
    "To get rid of this, we can also concatenate the two series into a dataframe and use the df.min function to compute the row minima.\n",
    "Note that we specify axis=1 on both the concat and min to state that we wish to concatenate columns (rather than rows) and get row totals (rather than column totals)"
   ]
  },
  {
   "cell_type": "code",
   "execution_count": 10,
   "metadata": {
    "collapsed": false,
    "scrolled": false
   },
   "outputs": [
    {
     "data": {
      "text/plain": [
       "616719923X     1.0\n",
       "9742356831    12.0\n",
       "B00004S1C5     1.0\n",
       "B0000531B7     6.0\n",
       "B00005344V     5.0\n",
       "dtype: float64"
      ]
     },
     "execution_count": 10,
     "metadata": {},
     "output_type": "execute_result"
    }
   ],
   "source": [
    "combined = pd.concat({\"good\":good, \"bad\":bad}, axis=1)\n",
    "c = combined.min(axis=1)\n",
    "c.head()"
   ]
  },
  {
   "cell_type": "markdown",
   "metadata": {},
   "source": [
    "# Combining data frames\n",
    "\n",
    "We've computed a number of useful statistics about the products, such as average review and controversiality.\n",
    "In many cases, it is useful to create a combined data frame of the product details and statistics,\n",
    "so we can e.g. easily see the title of succesful or controversial products.\n",
    "\n",
    "There are a number of ways to do this.\n",
    "Since all statistics have the asin as the index, which is also the index of the products data frame, we can simply assign e.g. the controversiality to a new column:"
   ]
  },
  {
   "cell_type": "code",
   "execution_count": 11,
   "metadata": {
    "collapsed": false
   },
   "outputs": [
    {
     "data": {
      "text/html": [
       "<div>\n",
       "<table border=\"1\" class=\"dataframe\">\n",
       "  <thead>\n",
       "    <tr style=\"text-align: right;\">\n",
       "      <th></th>\n",
       "      <th>brand</th>\n",
       "      <th>categories</th>\n",
       "      <th>description</th>\n",
       "      <th>imUrl</th>\n",
       "      <th>price</th>\n",
       "      <th>related</th>\n",
       "      <th>salesRank</th>\n",
       "      <th>title</th>\n",
       "      <th>controversiality</th>\n",
       "    </tr>\n",
       "    <tr>\n",
       "      <th>asin</th>\n",
       "      <th></th>\n",
       "      <th></th>\n",
       "      <th></th>\n",
       "      <th></th>\n",
       "      <th></th>\n",
       "      <th></th>\n",
       "      <th></th>\n",
       "      <th></th>\n",
       "      <th></th>\n",
       "    </tr>\n",
       "  </thead>\n",
       "  <tbody>\n",
       "    <tr>\n",
       "      <th>B002IEVJRY</th>\n",
       "      <td>illy issimo</td>\n",
       "      <td>[[Grocery &amp; Gourmet Food]]</td>\n",
       "      <td></td>\n",
       "      <td>http://ecx.images-amazon.com/images/I/419ezkZZ...</td>\n",
       "      <td>24.77</td>\n",
       "      <td>{'bought_together': ['B00IHVHM4Q', 'B000LL0R8I...</td>\n",
       "      <td>{'Grocery &amp; Gourmet Food': 3632}</td>\n",
       "      <td>illy issimo Coffee Drink, Cappuccino, 8.45-Oun...</td>\n",
       "      <td>90.0</td>\n",
       "    </tr>\n",
       "    <tr>\n",
       "      <th>B000FEH8ME</th>\n",
       "      <td>Pure Bar</td>\n",
       "      <td>[[Grocery &amp; Gourmet Food]]</td>\n",
       "      <td>Our Chocolate Brownie Bar is made with fair tr...</td>\n",
       "      <td>http://ecx.images-amazon.com/images/I/41bFHm7a...</td>\n",
       "      <td>23.50</td>\n",
       "      <td>{'bought_together': ['B008JKU2CO', 'B008JKUBZM...</td>\n",
       "      <td>{'Grocery &amp; Gourmet Food': 1523}</td>\n",
       "      <td>Pure Bar Organic Chocolate Brownie, Gluten Fre...</td>\n",
       "      <td>87.0</td>\n",
       "    </tr>\n",
       "    <tr>\n",
       "      <th>B004DIR3TQ</th>\n",
       "      <td>Scharffen Berger</td>\n",
       "      <td>[[Grocery &amp; Gourmet Food]]</td>\n",
       "      <td></td>\n",
       "      <td>http://ecx.images-amazon.com/images/I/41kvVyGr...</td>\n",
       "      <td>20.50</td>\n",
       "      <td>{'bought_together': ['B004NSKWMQ', 'B00D8TSUAM...</td>\n",
       "      <td>{'Grocery &amp; Gourmet Food': 37338}</td>\n",
       "      <td>Scharffen Berger Chocolate Bar, Bittersweet Da...</td>\n",
       "      <td>80.0</td>\n",
       "    </tr>\n",
       "    <tr>\n",
       "      <th>B003OGKCDC</th>\n",
       "      <td>NaN</td>\n",
       "      <td>[[Grocery &amp; Gourmet Food, Cooking &amp; Baking, Co...</td>\n",
       "      <td>NaN</td>\n",
       "      <td>NaN</td>\n",
       "      <td>NaN</td>\n",
       "      <td>NaN</td>\n",
       "      <td>NaN</td>\n",
       "      <td>NaN</td>\n",
       "      <td>74.0</td>\n",
       "    </tr>\n",
       "    <tr>\n",
       "      <th>B004YV80O4</th>\n",
       "      <td>Velveeta</td>\n",
       "      <td>[[Grocery &amp; Gourmet Food]]</td>\n",
       "      <td>Velveeta Ultimate Cheeseburger Mac Dinner Kit....</td>\n",
       "      <td>http://ecx.images-amazon.com/images/I/51WN9-R4...</td>\n",
       "      <td>29.97</td>\n",
       "      <td>{'bought_together': ['B0095F9EK8', 'B0019RLJV2...</td>\n",
       "      <td>{'Grocery &amp; Gourmet Food': 15130}</td>\n",
       "      <td>Kraft Velveeta Ultimate Cheesburger Skillets D...</td>\n",
       "      <td>72.0</td>\n",
       "    </tr>\n",
       "  </tbody>\n",
       "</table>\n",
       "</div>"
      ],
      "text/plain": [
       "                       brand  \\\n",
       "asin                           \n",
       "B002IEVJRY       illy issimo   \n",
       "B000FEH8ME          Pure Bar   \n",
       "B004DIR3TQ  Scharffen Berger   \n",
       "B003OGKCDC               NaN   \n",
       "B004YV80O4          Velveeta   \n",
       "\n",
       "                                                   categories  \\\n",
       "asin                                                            \n",
       "B002IEVJRY                         [[Grocery & Gourmet Food]]   \n",
       "B000FEH8ME                         [[Grocery & Gourmet Food]]   \n",
       "B004DIR3TQ                         [[Grocery & Gourmet Food]]   \n",
       "B003OGKCDC  [[Grocery & Gourmet Food, Cooking & Baking, Co...   \n",
       "B004YV80O4                         [[Grocery & Gourmet Food]]   \n",
       "\n",
       "                                                  description  \\\n",
       "asin                                                            \n",
       "B002IEVJRY                                                      \n",
       "B000FEH8ME  Our Chocolate Brownie Bar is made with fair tr...   \n",
       "B004DIR3TQ                                                      \n",
       "B003OGKCDC                                                NaN   \n",
       "B004YV80O4  Velveeta Ultimate Cheeseburger Mac Dinner Kit....   \n",
       "\n",
       "                                                        imUrl  price  \\\n",
       "asin                                                                   \n",
       "B002IEVJRY  http://ecx.images-amazon.com/images/I/419ezkZZ...  24.77   \n",
       "B000FEH8ME  http://ecx.images-amazon.com/images/I/41bFHm7a...  23.50   \n",
       "B004DIR3TQ  http://ecx.images-amazon.com/images/I/41kvVyGr...  20.50   \n",
       "B003OGKCDC                                                NaN    NaN   \n",
       "B004YV80O4  http://ecx.images-amazon.com/images/I/51WN9-R4...  29.97   \n",
       "\n",
       "                                                      related  \\\n",
       "asin                                                            \n",
       "B002IEVJRY  {'bought_together': ['B00IHVHM4Q', 'B000LL0R8I...   \n",
       "B000FEH8ME  {'bought_together': ['B008JKU2CO', 'B008JKUBZM...   \n",
       "B004DIR3TQ  {'bought_together': ['B004NSKWMQ', 'B00D8TSUAM...   \n",
       "B003OGKCDC                                                NaN   \n",
       "B004YV80O4  {'bought_together': ['B0095F9EK8', 'B0019RLJV2...   \n",
       "\n",
       "                                    salesRank  \\\n",
       "asin                                            \n",
       "B002IEVJRY   {'Grocery & Gourmet Food': 3632}   \n",
       "B000FEH8ME   {'Grocery & Gourmet Food': 1523}   \n",
       "B004DIR3TQ  {'Grocery & Gourmet Food': 37338}   \n",
       "B003OGKCDC                                NaN   \n",
       "B004YV80O4  {'Grocery & Gourmet Food': 15130}   \n",
       "\n",
       "                                                        title  \\\n",
       "asin                                                            \n",
       "B002IEVJRY  illy issimo Coffee Drink, Cappuccino, 8.45-Oun...   \n",
       "B000FEH8ME  Pure Bar Organic Chocolate Brownie, Gluten Fre...   \n",
       "B004DIR3TQ  Scharffen Berger Chocolate Bar, Bittersweet Da...   \n",
       "B003OGKCDC                                                NaN   \n",
       "B004YV80O4  Kraft Velveeta Ultimate Cheesburger Skillets D...   \n",
       "\n",
       "            controversiality  \n",
       "asin                          \n",
       "B002IEVJRY              90.0  \n",
       "B000FEH8ME              87.0  \n",
       "B004DIR3TQ              80.0  \n",
       "B003OGKCDC              74.0  \n",
       "B004YV80O4              72.0  "
      ]
     },
     "execution_count": 11,
     "metadata": {},
     "output_type": "execute_result"
    }
   ],
   "source": [
    "products = pd.read_pickle(\"products.pickle\")\n",
    "products['controversiality'] = c\n",
    "products = products.sort_values(\"controversiality\", ascending=False)\n",
    "products.head()"
   ]
  },
  {
   "cell_type": "markdown",
   "metadata": {},
   "source": [
    "We can also directly join a dataframe such as the 'stats' created above to the products:"
   ]
  },
  {
   "cell_type": "code",
   "execution_count": 12,
   "metadata": {
    "collapsed": false
   },
   "outputs": [
    {
     "data": {
      "text/html": [
       "<div>\n",
       "<table border=\"1\" class=\"dataframe\">\n",
       "  <thead>\n",
       "    <tr style=\"text-align: right;\">\n",
       "      <th></th>\n",
       "      <th>brand</th>\n",
       "      <th>categories</th>\n",
       "      <th>description</th>\n",
       "      <th>imUrl</th>\n",
       "      <th>price</th>\n",
       "      <th>related</th>\n",
       "      <th>salesRank</th>\n",
       "      <th>title</th>\n",
       "      <th>controversiality</th>\n",
       "      <th>count</th>\n",
       "      <th>mean</th>\n",
       "    </tr>\n",
       "    <tr>\n",
       "      <th>asin</th>\n",
       "      <th></th>\n",
       "      <th></th>\n",
       "      <th></th>\n",
       "      <th></th>\n",
       "      <th></th>\n",
       "      <th></th>\n",
       "      <th></th>\n",
       "      <th></th>\n",
       "      <th></th>\n",
       "      <th></th>\n",
       "      <th></th>\n",
       "    </tr>\n",
       "  </thead>\n",
       "  <tbody>\n",
       "    <tr>\n",
       "      <th>B002IEVJRY</th>\n",
       "      <td>illy issimo</td>\n",
       "      <td>[[Grocery &amp; Gourmet Food]]</td>\n",
       "      <td></td>\n",
       "      <td>http://ecx.images-amazon.com/images/I/419ezkZZ...</td>\n",
       "      <td>24.77</td>\n",
       "      <td>{'bought_together': ['B00IHVHM4Q', 'B000LL0R8I...</td>\n",
       "      <td>{'Grocery &amp; Gourmet Food': 3632}</td>\n",
       "      <td>illy issimo Coffee Drink, Cappuccino, 8.45-Oun...</td>\n",
       "      <td>90.0</td>\n",
       "      <td>741</td>\n",
       "      <td>3.731444</td>\n",
       "    </tr>\n",
       "    <tr>\n",
       "      <th>B000FEH8ME</th>\n",
       "      <td>Pure Bar</td>\n",
       "      <td>[[Grocery &amp; Gourmet Food]]</td>\n",
       "      <td>Our Chocolate Brownie Bar is made with fair tr...</td>\n",
       "      <td>http://ecx.images-amazon.com/images/I/41bFHm7a...</td>\n",
       "      <td>23.50</td>\n",
       "      <td>{'bought_together': ['B008JKU2CO', 'B008JKUBZM...</td>\n",
       "      <td>{'Grocery &amp; Gourmet Food': 1523}</td>\n",
       "      <td>Pure Bar Organic Chocolate Brownie, Gluten Fre...</td>\n",
       "      <td>87.0</td>\n",
       "      <td>742</td>\n",
       "      <td>3.854447</td>\n",
       "    </tr>\n",
       "    <tr>\n",
       "      <th>B004DIR3TQ</th>\n",
       "      <td>Scharffen Berger</td>\n",
       "      <td>[[Grocery &amp; Gourmet Food]]</td>\n",
       "      <td></td>\n",
       "      <td>http://ecx.images-amazon.com/images/I/41kvVyGr...</td>\n",
       "      <td>20.50</td>\n",
       "      <td>{'bought_together': ['B004NSKWMQ', 'B00D8TSUAM...</td>\n",
       "      <td>{'Grocery &amp; Gourmet Food': 37338}</td>\n",
       "      <td>Scharffen Berger Chocolate Bar, Bittersweet Da...</td>\n",
       "      <td>80.0</td>\n",
       "      <td>123</td>\n",
       "      <td>4.544715</td>\n",
       "    </tr>\n",
       "    <tr>\n",
       "      <th>B003OGKCDC</th>\n",
       "      <td>NaN</td>\n",
       "      <td>[[Grocery &amp; Gourmet Food, Cooking &amp; Baking, Co...</td>\n",
       "      <td>NaN</td>\n",
       "      <td>NaN</td>\n",
       "      <td>NaN</td>\n",
       "      <td>NaN</td>\n",
       "      <td>NaN</td>\n",
       "      <td>NaN</td>\n",
       "      <td>74.0</td>\n",
       "      <td>83</td>\n",
       "      <td>4.855422</td>\n",
       "    </tr>\n",
       "    <tr>\n",
       "      <th>B004YV80O4</th>\n",
       "      <td>Velveeta</td>\n",
       "      <td>[[Grocery &amp; Gourmet Food]]</td>\n",
       "      <td>Velveeta Ultimate Cheeseburger Mac Dinner Kit....</td>\n",
       "      <td>http://ecx.images-amazon.com/images/I/51WN9-R4...</td>\n",
       "      <td>29.97</td>\n",
       "      <td>{'bought_together': ['B0095F9EK8', 'B0019RLJV2...</td>\n",
       "      <td>{'Grocery &amp; Gourmet Food': 15130}</td>\n",
       "      <td>Kraft Velveeta Ultimate Cheesburger Skillets D...</td>\n",
       "      <td>72.0</td>\n",
       "      <td>428</td>\n",
       "      <td>3.616822</td>\n",
       "    </tr>\n",
       "  </tbody>\n",
       "</table>\n",
       "</div>"
      ],
      "text/plain": [
       "                       brand  \\\n",
       "asin                           \n",
       "B002IEVJRY       illy issimo   \n",
       "B000FEH8ME          Pure Bar   \n",
       "B004DIR3TQ  Scharffen Berger   \n",
       "B003OGKCDC               NaN   \n",
       "B004YV80O4          Velveeta   \n",
       "\n",
       "                                                   categories  \\\n",
       "asin                                                            \n",
       "B002IEVJRY                         [[Grocery & Gourmet Food]]   \n",
       "B000FEH8ME                         [[Grocery & Gourmet Food]]   \n",
       "B004DIR3TQ                         [[Grocery & Gourmet Food]]   \n",
       "B003OGKCDC  [[Grocery & Gourmet Food, Cooking & Baking, Co...   \n",
       "B004YV80O4                         [[Grocery & Gourmet Food]]   \n",
       "\n",
       "                                                  description  \\\n",
       "asin                                                            \n",
       "B002IEVJRY                                                      \n",
       "B000FEH8ME  Our Chocolate Brownie Bar is made with fair tr...   \n",
       "B004DIR3TQ                                                      \n",
       "B003OGKCDC                                                NaN   \n",
       "B004YV80O4  Velveeta Ultimate Cheeseburger Mac Dinner Kit....   \n",
       "\n",
       "                                                        imUrl  price  \\\n",
       "asin                                                                   \n",
       "B002IEVJRY  http://ecx.images-amazon.com/images/I/419ezkZZ...  24.77   \n",
       "B000FEH8ME  http://ecx.images-amazon.com/images/I/41bFHm7a...  23.50   \n",
       "B004DIR3TQ  http://ecx.images-amazon.com/images/I/41kvVyGr...  20.50   \n",
       "B003OGKCDC                                                NaN    NaN   \n",
       "B004YV80O4  http://ecx.images-amazon.com/images/I/51WN9-R4...  29.97   \n",
       "\n",
       "                                                      related  \\\n",
       "asin                                                            \n",
       "B002IEVJRY  {'bought_together': ['B00IHVHM4Q', 'B000LL0R8I...   \n",
       "B000FEH8ME  {'bought_together': ['B008JKU2CO', 'B008JKUBZM...   \n",
       "B004DIR3TQ  {'bought_together': ['B004NSKWMQ', 'B00D8TSUAM...   \n",
       "B003OGKCDC                                                NaN   \n",
       "B004YV80O4  {'bought_together': ['B0095F9EK8', 'B0019RLJV2...   \n",
       "\n",
       "                                    salesRank  \\\n",
       "asin                                            \n",
       "B002IEVJRY   {'Grocery & Gourmet Food': 3632}   \n",
       "B000FEH8ME   {'Grocery & Gourmet Food': 1523}   \n",
       "B004DIR3TQ  {'Grocery & Gourmet Food': 37338}   \n",
       "B003OGKCDC                                NaN   \n",
       "B004YV80O4  {'Grocery & Gourmet Food': 15130}   \n",
       "\n",
       "                                                        title  \\\n",
       "asin                                                            \n",
       "B002IEVJRY  illy issimo Coffee Drink, Cappuccino, 8.45-Oun...   \n",
       "B000FEH8ME  Pure Bar Organic Chocolate Brownie, Gluten Fre...   \n",
       "B004DIR3TQ  Scharffen Berger Chocolate Bar, Bittersweet Da...   \n",
       "B003OGKCDC                                                NaN   \n",
       "B004YV80O4  Kraft Velveeta Ultimate Cheesburger Skillets D...   \n",
       "\n",
       "            controversiality  count      mean  \n",
       "asin                                           \n",
       "B002IEVJRY              90.0    741  3.731444  \n",
       "B000FEH8ME              87.0    742  3.854447  \n",
       "B004DIR3TQ              80.0    123  4.544715  \n",
       "B003OGKCDC              74.0     83  4.855422  \n",
       "B004YV80O4              72.0    428  3.616822  "
      ]
     },
     "execution_count": 12,
     "metadata": {},
     "output_type": "execute_result"
    }
   ],
   "source": [
    "products = products.join(stats)\n",
    "products.head()"
   ]
  },
  {
   "cell_type": "markdown",
   "metadata": {},
   "source": [
    "To get slightly nicer output, we only want to see the title and our three new columns.\n",
    "This is achieved by using products.columns to get a list of column names, and then selecting the last three and adding them to a list containing only the 'title' name:"
   ]
  },
  {
   "cell_type": "code",
   "execution_count": 13,
   "metadata": {
    "collapsed": false,
    "scrolled": true
   },
   "outputs": [
    {
     "data": {
      "text/html": [
       "<div>\n",
       "<table border=\"1\" class=\"dataframe\">\n",
       "  <thead>\n",
       "    <tr style=\"text-align: right;\">\n",
       "      <th></th>\n",
       "      <th>title</th>\n",
       "      <th>controversiality</th>\n",
       "      <th>count</th>\n",
       "      <th>mean</th>\n",
       "    </tr>\n",
       "    <tr>\n",
       "      <th>asin</th>\n",
       "      <th></th>\n",
       "      <th></th>\n",
       "      <th></th>\n",
       "      <th></th>\n",
       "    </tr>\n",
       "  </thead>\n",
       "  <tbody>\n",
       "    <tr>\n",
       "      <th>B002IEVJRY</th>\n",
       "      <td>illy issimo Coffee Drink, Cappuccino, 8.45-Oun...</td>\n",
       "      <td>90.0</td>\n",
       "      <td>741</td>\n",
       "      <td>3.731444</td>\n",
       "    </tr>\n",
       "    <tr>\n",
       "      <th>B000FEH8ME</th>\n",
       "      <td>Pure Bar Organic Chocolate Brownie, Gluten Fre...</td>\n",
       "      <td>87.0</td>\n",
       "      <td>742</td>\n",
       "      <td>3.854447</td>\n",
       "    </tr>\n",
       "    <tr>\n",
       "      <th>B004DIR3TQ</th>\n",
       "      <td>Scharffen Berger Chocolate Bar, Bittersweet Da...</td>\n",
       "      <td>80.0</td>\n",
       "      <td>123</td>\n",
       "      <td>4.544715</td>\n",
       "    </tr>\n",
       "    <tr>\n",
       "      <th>B003OGKCDC</th>\n",
       "      <td>NaN</td>\n",
       "      <td>74.0</td>\n",
       "      <td>83</td>\n",
       "      <td>4.855422</td>\n",
       "    </tr>\n",
       "    <tr>\n",
       "      <th>B004YV80O4</th>\n",
       "      <td>Kraft Velveeta Ultimate Cheesburger Skillets D...</td>\n",
       "      <td>72.0</td>\n",
       "      <td>428</td>\n",
       "      <td>3.616822</td>\n",
       "    </tr>\n",
       "  </tbody>\n",
       "</table>\n",
       "</div>"
      ],
      "text/plain": [
       "                                                        title  \\\n",
       "asin                                                            \n",
       "B002IEVJRY  illy issimo Coffee Drink, Cappuccino, 8.45-Oun...   \n",
       "B000FEH8ME  Pure Bar Organic Chocolate Brownie, Gluten Fre...   \n",
       "B004DIR3TQ  Scharffen Berger Chocolate Bar, Bittersweet Da...   \n",
       "B003OGKCDC                                                NaN   \n",
       "B004YV80O4  Kraft Velveeta Ultimate Cheesburger Skillets D...   \n",
       "\n",
       "            controversiality  count      mean  \n",
       "asin                                           \n",
       "B002IEVJRY              90.0    741  3.731444  \n",
       "B000FEH8ME              87.0    742  3.854447  \n",
       "B004DIR3TQ              80.0    123  4.544715  \n",
       "B003OGKCDC              74.0     83  4.855422  \n",
       "B004YV80O4              72.0    428  3.616822  "
      ]
     },
     "execution_count": 13,
     "metadata": {},
     "output_type": "execute_result"
    }
   ],
   "source": [
    "products[[\"title\"] + list(products.columns[-3:])].head()"
   ]
  },
  {
   "cell_type": "markdown",
   "metadata": {},
   "source": [
    "Of course, in this case it is actually much easier since the title is actually the last column, so we can simply select the last four columns with the .ix function, using the unspecified `:` to select all rows:"
   ]
  },
  {
   "cell_type": "code",
   "execution_count": 14,
   "metadata": {
    "collapsed": false,
    "scrolled": true
   },
   "outputs": [
    {
     "data": {
      "text/html": [
       "<div>\n",
       "<table border=\"1\" class=\"dataframe\">\n",
       "  <thead>\n",
       "    <tr style=\"text-align: right;\">\n",
       "      <th></th>\n",
       "      <th>title</th>\n",
       "      <th>controversiality</th>\n",
       "      <th>count</th>\n",
       "      <th>mean</th>\n",
       "    </tr>\n",
       "    <tr>\n",
       "      <th>asin</th>\n",
       "      <th></th>\n",
       "      <th></th>\n",
       "      <th></th>\n",
       "      <th></th>\n",
       "    </tr>\n",
       "  </thead>\n",
       "  <tbody>\n",
       "    <tr>\n",
       "      <th>B002IEVJRY</th>\n",
       "      <td>illy issimo Coffee Drink, Cappuccino, 8.45-Oun...</td>\n",
       "      <td>90.0</td>\n",
       "      <td>741</td>\n",
       "      <td>3.731444</td>\n",
       "    </tr>\n",
       "    <tr>\n",
       "      <th>B000FEH8ME</th>\n",
       "      <td>Pure Bar Organic Chocolate Brownie, Gluten Fre...</td>\n",
       "      <td>87.0</td>\n",
       "      <td>742</td>\n",
       "      <td>3.854447</td>\n",
       "    </tr>\n",
       "    <tr>\n",
       "      <th>B004DIR3TQ</th>\n",
       "      <td>Scharffen Berger Chocolate Bar, Bittersweet Da...</td>\n",
       "      <td>80.0</td>\n",
       "      <td>123</td>\n",
       "      <td>4.544715</td>\n",
       "    </tr>\n",
       "    <tr>\n",
       "      <th>B003OGKCDC</th>\n",
       "      <td>NaN</td>\n",
       "      <td>74.0</td>\n",
       "      <td>83</td>\n",
       "      <td>4.855422</td>\n",
       "    </tr>\n",
       "    <tr>\n",
       "      <th>B004YV80O4</th>\n",
       "      <td>Kraft Velveeta Ultimate Cheesburger Skillets D...</td>\n",
       "      <td>72.0</td>\n",
       "      <td>428</td>\n",
       "      <td>3.616822</td>\n",
       "    </tr>\n",
       "  </tbody>\n",
       "</table>\n",
       "</div>"
      ],
      "text/plain": [
       "                                                        title  \\\n",
       "asin                                                            \n",
       "B002IEVJRY  illy issimo Coffee Drink, Cappuccino, 8.45-Oun...   \n",
       "B000FEH8ME  Pure Bar Organic Chocolate Brownie, Gluten Fre...   \n",
       "B004DIR3TQ  Scharffen Berger Chocolate Bar, Bittersweet Da...   \n",
       "B003OGKCDC                                                NaN   \n",
       "B004YV80O4  Kraft Velveeta Ultimate Cheesburger Skillets D...   \n",
       "\n",
       "            controversiality  count      mean  \n",
       "asin                                           \n",
       "B002IEVJRY              90.0    741  3.731444  \n",
       "B000FEH8ME              87.0    742  3.854447  \n",
       "B004DIR3TQ              80.0    123  4.544715  \n",
       "B003OGKCDC              74.0     83  4.855422  \n",
       "B004YV80O4              72.0    428  3.616822  "
      ]
     },
     "execution_count": 14,
     "metadata": {},
     "output_type": "execute_result"
    }
   ],
   "source": [
    "products.ix[:, -4:].head()"
   ]
  },
  {
   "cell_type": "markdown",
   "metadata": {},
   "source": [
    "# Comparing performance "
   ]
  },
  {
   "cell_type": "markdown",
   "metadata": {},
   "source": [
    "The final solution for computing controversiality seems a lot faster,\n",
    "but it would be nice to measure how much faster it is. \n",
    "To do this, we can use the `%timeit` 'magic' function built into ipython. \n",
    "Timeit runs an expression *n* times to measure how long it takes. \n",
    "It then does this 3 times and reports the best of these 3 (to prevent e.g. a background process from interfering too much). "
   ]
  },
  {
   "cell_type": "code",
   "execution_count": 15,
   "metadata": {
    "collapsed": false
   },
   "outputs": [
    {
     "name": "stdout",
     "output_type": "stream",
     "text": [
      "1 loop, best of 3: 4.59 s per loop\n"
     ]
    }
   ],
   "source": [
    "%timeit -n 1 reviews.groupby(['asin'])['overall'].agg([controversiality])"
   ]
  },
  {
   "cell_type": "code",
   "execution_count": 16,
   "metadata": {
    "collapsed": false,
    "scrolled": true
   },
   "outputs": [
    {
     "name": "stdout",
     "output_type": "stream",
     "text": [
      "10 loops, best of 3: 297 ms per loop\n"
     ]
    }
   ],
   "source": [
    "%timeit -n 10 good.combine(bad, func=min, fill_value=0)"
   ]
  },
  {
   "cell_type": "code",
   "execution_count": 17,
   "metadata": {
    "collapsed": false
   },
   "outputs": [
    {
     "name": "stdout",
     "output_type": "stream",
     "text": [
      "10 loops, best of 3: 7.58 ms per loop\n"
     ]
    }
   ],
   "source": [
    "%timeit -n 10 pd.concat({\"good\":good, \"bad\":bad}, axis=1).min(axis=1)"
   ]
  },
  {
   "cell_type": "markdown",
   "metadata": {},
   "source": [
    "So, the first change (using combine and min instead of a custom aggregation function) gave a speedup of around 16x. \n",
    "The second improvement (using vectorized df.min instead of implicitly looping the python min function) also gives a very significant speedup of around 36x. \n",
    "In total, the difference between the first attempt and the final solution is over 500x speedup.\n",
    "\n",
    "This might not be significant on toy data sets, but if you go into the millions of rows it can be very important. \n",
    "So, always try to avoid calling python functions on individual rows but try to use vectorized functions like df.min.\n",
    "And know that you can always used `%timeit` to profile your code.\n",
    "It is best to only improve performance where it actually matters, as the fastest code is not always the most readable code, and this matters if you need to reuse or adapt the code years later."
   ]
  }
 ],
 "metadata": {
  "kernelspec": {
   "display_name": "Python 3",
   "language": "python",
   "name": "python3"
  },
  "language_info": {
   "codemirror_mode": {
    "name": "ipython",
    "version": 3
   },
   "file_extension": ".py",
   "mimetype": "text/x-python",
   "name": "python",
   "nbconvert_exporter": "python",
   "pygments_lexer": "ipython3",
   "version": "3.5.2"
  }
 },
 "nbformat": 4,
 "nbformat_minor": 2
}
